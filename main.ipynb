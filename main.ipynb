{
 "cells": [
  {
   "cell_type": "code",
   "execution_count": null,
   "id": "b625ebc7",
   "metadata": {},
   "outputs": [],
   "source": [
    "!which python"
   ]
  },
  {
   "cell_type": "code",
   "execution_count": null,
   "id": "584038cd",
   "metadata": {},
   "outputs": [],
   "source": [
    "import re\n",
    "import time\n",
    "import spacy\n",
    "import numpy as np\n",
    "import pandas as pd\n",
    "from pandarallel import pandarallel\n",
    "\n",
    "# Carregando a base de dados\n",
    "df = pd.read_csv('data/Train50.csv', delimiter=';')\n",
    "df = df.drop(['id', 'tweet_date', 'query_used'], axis=1)\n",
    "\n",
    "# Carregando o modelo estatístico\n",
    "nlp = spacy.load('pt_core_news_sm')"
   ]
  },
  {
   "cell_type": "code",
   "execution_count": 3,
   "id": "546209f5",
   "metadata": {},
   "outputs": [],
   "source": [
    "# Criando a função de pré-processamento do texto\n",
    "def preprocessing(text):\n",
    "    text = text.lower()\n",
    "\n",
    "    # retira nome do usuário: @labdata\n",
    "    text = re.sub(r\"@[A-Za-z0-9$-_@.&+]+\", '', text)\n",
    "\n",
    "    # retira as URLs\n",
    "    text = re.sub(r\"https?://[A-Za-z0-9./]+\", '', text)\n",
    "\n",
    "    # retira espaços em branco extras no meio do texto, no começo e no fim\n",
    "    text = re.sub(r\" +\", ' ', text).strip()\n",
    "\n",
    "    # substituir emoticons por texto\n",
    "    emoticons = {\n",
    "        ':)': 'emocaopositiva',\n",
    "        ':d': 'emocaopositiva',\n",
    "        ':(': 'emocaonegativa'\n",
    "    }\n",
    "    for emoticon in emoticons:\n",
    "        text = text.replace(emoticon, emoticons[emoticon])\n",
    "\n",
    "    doc = nlp(text)\n",
    "\n",
    "    # remove pontuacão, stop_word e dígitos\n",
    "    # pega apenas o lemma da palavra\n",
    "    lista = []\n",
    "    for token in doc:\n",
    "        if not token.is_punct and not token.is_stop and not token.like_num:\n",
    "            lista.append(token.lemma_)\n",
    "\n",
    "    # transforma a lista em um texto\n",
    "    text_processed = ' '.join(lista)\n",
    "    return text_processed"
   ]
  },
  {
   "cell_type": "code",
   "execution_count": 4,
   "id": "8f6e83da",
   "metadata": {},
   "outputs": [
    {
     "name": "stdout",
     "output_type": "stream",
     "text": [
      "INFO: Pandarallel will run on 8 workers.\n",
      "INFO: Pandarallel will use Memory file system to transfer data between the main process and workers.\n"
     ]
    },
    {
     "data": {
      "application/vnd.jupyter.widget-view+json": {
       "model_id": "b0887de8a3414834a882a9317c2b92ad",
       "version_major": 2,
       "version_minor": 0
      },
      "text/plain": [
       "VBox(children=(HBox(children=(IntProgress(value=0, description='0.00%', max=6250), Label(value='0 / 6250'))), …"
      ]
     },
     "metadata": {},
     "output_type": "display_data"
    },
    {
     "name": "stdout",
     "output_type": "stream",
     "text": [
      "Tempo total de execução: 2.71 minutos\n"
     ]
    }
   ],
   "source": [
    "# Aplicando a função no dataframe completo, utilizando todos\n",
    "# os cores da máquina com o pandarallel\n",
    "pandarallel.initialize(progress_bar=True)\n",
    "\n",
    "start = time.time()\n",
    "df['tweet_text_cleaned'] = df['tweet_text'].parallel_apply(preprocessing)\n",
    "end = time.time()\n",
    "print(f\"Tempo total de execução: {(end-start)/60:.2f} minutos\")"
   ]
  },
  {
   "cell_type": "code",
   "execution_count": null,
   "id": "fd42688a",
   "metadata": {},
   "outputs": [],
   "source": []
  }
 ],
 "metadata": {
  "kernelspec": {
   "display_name": "Python 3",
   "language": "python",
   "name": "python3"
  },
  "language_info": {
   "codemirror_mode": {
    "name": "ipython",
    "version": 3
   },
   "file_extension": ".py",
   "mimetype": "text/x-python",
   "name": "python",
   "nbconvert_exporter": "python",
   "pygments_lexer": "ipython3",
   "version": "3.8.5"
  }
 },
 "nbformat": 4,
 "nbformat_minor": 5
}
